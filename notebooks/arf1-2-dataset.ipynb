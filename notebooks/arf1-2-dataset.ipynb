{
 "cells": [
  {
   "cell_type": "code",
   "execution_count": null,
   "id": "7cdeaf74",
   "metadata": {},
   "outputs": [],
   "source": [
    "from src.files.blast import BLASTJsonFile\n",
    "from src.files.fasta import FASTAFile, get_reverse_complement\n",
    "import re\n",
    "import os \n",
    "import pandas as pd \n",
    "from tqdm import tqdm\n",
    "import matplotlib.pyplot as plt \n",
    "import seaborn as sns\n",
    "import numpy as np \n",
    "from src.download import *\n",
    "from src.stop_codon import *\n",
    "\n",
    "Entrez.email = 'prichter@berkeley.edu'"
   ]
  },
  {
   "cell_type": "code",
   "execution_count": null,
   "id": "257828e8",
   "metadata": {},
   "outputs": [],
   "source": [
    "def parse_coordinates(coords:str):\n",
    "    coords = coords.replace('&lt;', '<').replace('&gt;', '>')\n",
    "    match = re.search(r'([\\d<>]+)\\.\\.([\\d<>]+)', coords)\n",
    "    strand = '-' if 'complement' in coords else '+'\n",
    "\n",
    "    coords = [match.group(1), match.group(2)]\n",
    "\n",
    "    partial = ['0', '0']\n",
    "    for i, coord in enumerate(coords):\n",
    "        if ('<' in coord) or ('>' in coord):\n",
    "            partial[i] = '1'\n",
    "            coords[i] = coord.replace('<', '').replace('>', '')\n",
    "\n",
    "    start, stop = coords\n",
    "    return start, stop, strand, ''.join(partial)\n",
    "\n",
    "\n",
    "def remove_nuccore_duplicates(arf12_df:pd.DataFrame):\n",
    "    get_nuccore_id = lambda nuccore_id : nuccore_id.replace('NZ_', '').replace('_', '').split('.')[0]\n",
    "    is_reference = lambda nuccore_id : nuccore_id.startswith('NZ_')\n",
    "    \n",
    "    arf12_df['reference'] = arf12_df.nuccore_id.apply(is_reference)\n",
    "    arf12_df = arf12_df.sort_values('reference', ascending=False) # Sort so that the reference sequences are first. \n",
    "    arf12_df['nuccore_id_'] = arf12_df.nuccore_id.apply(get_nuccore_id)\n",
    "    arf12_df = arf12_df.drop_duplicates('nuccore_id_')\n",
    "    print('remove_nuccore_duplicates: Num. sequences derived from unique nuccore entries:', len(arf12_df))\n",
    "    return arf12_df \n"
   ]
  },
  {
   "cell_type": "code",
   "execution_count": 5,
   "id": "19bc0392",
   "metadata": {},
   "outputs": [
    {
     "name": "stdout",
     "output_type": "stream",
     "text": [
      "Num. BLAST hits: 549\n"
     ]
    }
   ],
   "source": [
    "blast_df = BLASTJsonFile('../data/arf1-2.json').to_df()\n",
    "blast_df = blast_df.drop_duplicates('subject_id')\n",
    "print('Num. BLAST hits:', len(blast_df))"
   ]
  },
  {
   "cell_type": "code",
   "execution_count": null,
   "id": "eadd23db",
   "metadata": {},
   "outputs": [],
   "source": [
    "if not os.path.exists('../data/arf1-2.csv'):\n",
    "    arf12_df = list()\n",
    "    for id_ in tqdm(blast_df.subject_id, desc='Downloading aRF1-2 sequences...'):\n",
    "        if id_.startswith('WP'):\n",
    "            arf12_df += download_nr_protein_info(id_)\n",
    "        else:\n",
    "            arf12_df += [download_protein_info(id_)]\n",
    "\n",
    "    arf12_df = pd.DataFrame(arf12_df).set_index('id')\n",
    "    arf12_df.to_csv('../data/arf1-2.csv')\n"
   ]
  },
  {
   "cell_type": "code",
   "execution_count": null,
   "id": "2ef71f13",
   "metadata": {},
   "outputs": [],
   "source": [
    "# Go through the ones with string coordinates and parse them all. \n",
    "for row in arf12_df[~arf12_df.coordinates.isnull()].itertuples():\n",
    "    \n",
    "    start, stop, strand, partial = parse_coordinates(row.coordinates)\n",
    "    arf12_df.loc[row.Index, 'start'] = int(start)\n",
    "    arf12_df.loc[row.Index, 'stop'] = int(stop)\n",
    "    arf12_df.loc[row.Index, 'strand'] = strand \n",
    "    arf12_df.loc[row.Index, 'partial'] = partial\n"
   ]
  },
  {
   "cell_type": "code",
   "execution_count": null,
   "id": "89fd7e34",
   "metadata": {},
   "outputs": [
    {
     "name": "stdout",
     "output_type": "stream",
     "text": [
      "remove_nuccore_duplicates: Num. sequences derived from unique nuccore entries: 769\n"
     ]
    }
   ],
   "source": [
    "arf12_df = pd.read_csv('../data/arf1-2.csv', index_col=0)\n",
    "arf12_df = arf12_df[~arf12_df.nuccore_id.isnull()].copy()\n",
    "arf12_df = arf12_df.merge(blast_df.set_index('subject_id'), left_index=True, right_index=True)\n",
    "arf12_df = arf12_df.rename(columns={'subject_seq':'seq'})\n",
    "arf12_df = remove_nuccore_duplicates(arf12_df.copy())"
   ]
  },
  {
   "cell_type": "code",
   "execution_count": 10,
   "id": "e7ae2c06",
   "metadata": {},
   "outputs": [
    {
     "name": "stderr",
     "output_type": "stream",
     "text": [
      "Loading nucleotide sequences from FASTA files.: 100%|██████████| 769/769 [00:06<00:00, 120.77it/s]\n"
     ]
    }
   ],
   "source": [
    "nt_seqs = list()\n",
    "for row in tqdm(list(arf12_df.itertuples()), desc='Loading nucleotide sequences from FASTA files.'):\n",
    "    fasta_file = FASTAFile().from_fasta(row.fn_path)\n",
    "    nt_seq = fasta_file.get_seq(row.nuccore_id, start=int(row.start) - 1, stop=int(row.stop))\n",
    "    nt_seq = get_reverse_complement(nt_seq) if (row.strand == '-') else nt_seq\n",
    "    nt_seqs += [nt_seq]\n",
    "    \n",
    "arf12_df['nt_seq'] = nt_seqs\n",
    "arf12_df['stop_codon'] = arf12_df.nt_seq.str.slice(start=-3)\n",
    "arf12_df['genus'] = arf12_df.organism.apply(lambda org : org.replace('Candidatus', '').split()[0])\n",
    "arf12_df = arf12_df[arf12_df.stop_codon.isin(['TAG', 'TGA', 'TAA'])].copy() # Ones without valid stop codons are likely partial."
   ]
  },
  {
   "cell_type": "code",
   "execution_count": null,
   "id": "91e266c6",
   "metadata": {},
   "outputs": [
    {
     "name": "stderr",
     "output_type": "stream",
     "text": [
      "run_prodigal:  92%|█████████▏| 5221/5690 [39:23<05:10,  1.51it/s]  "
     ]
    }
   ],
   "source": [
    "\n",
    "\n",
    "if 'assembly_id' not in arf12_df.columns:\n",
    "    arf12_df['assembly_id'] = [download_assembly_id(nuccore_id) for nuccore_id in tqdm(arf12_df.nuccore_id, desc='Downloading assembly IDs from NCBI.')]\n",
    "\n",
    "\n",
    "from src.tools import run_prodigal\n",
    "\n",
    "run_prodigal()"
   ]
  },
  {
   "cell_type": "code",
   "execution_count": null,
   "id": "5314ab1b",
   "metadata": {},
   "outputs": [],
   "source": [
    "build_stop_codon_genome_metadata_dataset(genome_ids:list, fn_dir:str='../dta/ncbi/genomes', fa_dir:str='../data/prodigal', path:str=None)"
   ]
  },
  {
   "cell_type": "code",
   "execution_count": null,
   "id": "cf7e71bc",
   "metadata": {},
   "outputs": [],
   "source": [
    "arf12_df.to_csv('../data/arf1-2_cleaned.csv')"
   ]
  },
  {
   "cell_type": "code",
   "execution_count": null,
   "id": "08270626",
   "metadata": {},
   "outputs": [
    {
     "data": {
      "image/png": "[encoded data removed]",
      "text/plain": [
       "<Figure size 640x480 with 1 Axes>"
      ]
     },
     "metadata": {},
     "output_type": "display_data"
    }
   ],
   "source": [
    "arf12_df['methanosarcinales'] = arf12_df.genus.str.contains('Methanosarcinales', case=False) | arf12_df.taxonomy.str.contains('Methanosarcinales', case=False)\n",
    "arf12_df = arf12_df[arf12_df.methanosarcinales].copy()\n",
    "arf12_df['genus'] = np.where(arf12_df.genus == 'Methanosarcinales', 'unknown', arf12_df.genus)\n",
    "\n",
    "palette = {'TAG':'steelblue', 'TGA':'darkgray', 'TAA':'lightgray'}\n",
    "\n",
    "genus_counts = arf12_df.genus.value_counts()\n",
    "\n",
    "fig, ax = plt.subplots()\n",
    "\n",
    "figure_df = arf12_df.copy()\n",
    "figure_df = figure_df[figure_df.genus.isin(genus_counts[genus_counts > 20].index.values)].copy()\n",
    "\n",
    "sns.histplot(figure_df, ax=ax, x='genus', hue='stop_codon', palette=palette, multiple='dodge', shrink=0.8, stat='count', common_norm=True)\n",
    "ax.set_xticks(ax.get_xticks(), labels=ax.get_xticklabels(), rotation=90)\n",
    "ax.set_xlabel('')\n",
    "# ax.set_ylabel('fraction of total')\n",
    "ax.set_ylabel('count')\n",
    "\n",
    "# heights = np.array([p.get_height() for p in ax.patches])\n",
    "# heights = heights / heights.max()\n",
    "# for p, h in zip(ax.patches, heights):\n",
    "#     p.set_height(h)\n",
    "# ax.set_ylim(ymin=0, ymax=1.01)\n",
    "\n",
    "plt.show()"
   ]
  },
  {
   "cell_type": "code",
   "execution_count": null,
   "id": "193aec74",
   "metadata": {},
   "outputs": [
    {
     "data": {
      "text/plain": [
       "id\n",
       "WP_048123334    TGA\n",
       "WP_048037734    TGA\n",
       "WP_278098996    TAA\n",
       "WP_324330307    TGA\n",
       "WP_338096253    TAA\n",
       "               ... \n",
       "WP_013036486    TAA\n",
       "WP_013036486    TAA\n",
       "MDW7732995      TGA\n",
       "WP_072561087    TAA\n",
       "RLG21017        TGG\n",
       "Name: nt_seq, Length: 769, dtype: object"
      ]
     },
     "execution_count": 18,
     "metadata": {},
     "output_type": "execute_result"
    }
   ],
   "source": [
    "arf12_df.nt_seq.str.slice(start=-3)"
   ]
  },
  {
   "cell_type": "code",
   "execution_count": null,
   "id": "51970bff",
   "metadata": {},
   "outputs": [],
   "source": [
    "# def download_protein_info(id_, fn_dir:str='../data/ncbi/nucleotides'):\n",
    "    \n",
    "#     info = list()\n",
    "    \n",
    "    # result = Entrez.esearch(db='protein', term=id_, rettype='html').read().decode('utf-8')\n",
    "    # protein_ids = get_ids(result)\n",
    "    # if len(protein_ids) == 0:\n",
    "    #     print(f'download_protein_info: No results for {id_}')\n",
    "    #     return info\n",
    "    \n",
    "#     for protein_id in protein_ids:\n",
    "#         info = {'id':id_, 'numerical_protein_id':protein_id}\n",
    "    \n",
    "#         result = Entrez.efetch(db='protein', id=protein_id, rettype='html').read().decode('utf-8')\n",
    "#         info['nuccore_id'], info['coordinates'] = get_coordinates(result)\n",
    "        \n",
    "#         result = Entrez.elink(dbfrom='protein', db='nuccore', id=protein_id, rettype='html').read().decode('utf-8')\n",
    "#         nuccore_id = get_ids(result)\n",
    "#         if len(nuccore_id) == 0:\n",
    "#             info.append(info)\n",
    "#             continue \n",
    "#         else:\n",
    "#             nuccore_id = nuccore_id[1] # First ID tag is just the ID itself. \n",
    "\n",
    "#         result = Entrez.efetch(db='nuccore', id=nuccore_id, rettype='html').read().decode('utf-8')\n",
    "\n",
    "#         info['organism'] = get_organism(result)\n",
    "#         info['taxonomy'] = get_taxonomy(result)\n",
    "#         # info['nuccore_id'] = get_nuccore_accession(result)\n",
    "#         info['numerical_nuccore_id'] = nuccore_id\n",
    "\n",
    "#         fn_path = os.path.join(fn_dir, f'{nuccore_id}.fn')\n",
    "#         if not os.path.exists(fn_path):\n",
    "#             result = Entrez.efetch(db='nuccore', id=nuccore_id, rettype='fasta').read()\n",
    "#             with open(fn_path, 'w') as f:\n",
    "#                 f.write(result)\n",
    "#             info['fn_path'] = fn_path\n",
    "#         info.append(info)\n",
    "    \n",
    "#     return info\n",
    "\n",
    "# arf12_df = list()\n",
    "# for id_ in tqdm(blast_df.subject_id, desc='Downloading aRF1-2 sequences...'):\n",
    "#     arf12_df += download_protein_info(id_)\n",
    "# arf12_df = pd.DataFrame(arf12_df).set_index('id')\n"
   ]
  }
 ],
 "metadata": {
  "kernelspec": {
   "display_name": "pyrrolysine",
   "language": "python",
   "name": "python3"
  },
  "language_info": {
   "codemirror_mode": {
    "name": "ipython",
    "version": 3
   },
   "file_extension": ".py",
   "mimetype": "text/x-python",
   "name": "python",
   "nbconvert_exporter": "python",
   "pygments_lexer": "ipython3",
   "version": "3.13.7"
  }
 },
 "nbformat": 4,
 "nbformat_minor": 5
}
