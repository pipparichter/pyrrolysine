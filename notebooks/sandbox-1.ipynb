{
 "cells": [
  {
   "cell_type": "code",
   "execution_count": 5,
   "id": "cf53037f",
   "metadata": {},
   "outputs": [],
   "source": [
    "import pandas as pd \n",
    "import numpy as np \n",
    "import os\n",
    "import seaborn as sns\n",
    "import matplotlib.pyplot as plt\n",
    "from src.files.fasta import FASTAFile\n",
    "from Bio import Phylo\n",
    "from itertools import product, combinations\n",
    "from utils import *\n",
    "from src.coevolution import get_scores\n",
    "from scipy.stats import mannwhitneyu\n",
    "from src.files.itol import *\n",
    "\n",
    "is_homogenous = lambda df : df.category.nunique() == 1"
   ]
  },
  {
   "cell_type": "code",
   "execution_count": 6,
   "id": "104846f0",
   "metadata": {},
   "outputs": [],
   "source": [
    "# Want to compare the regions where the divergence scores are highest. Would expect to see higher divergence scores around\n",
    "# the N-terminus when comparing Pyl+ vs. Pyl-. Probably should control for evolutionary distance, i.e. compare clades which are similarly\n",
    "# distant. Probably the easiest way to do this is by clustering the release factors and then building a tree of the representatives. \n",
    "\n",
    "arf1_df = pd.read_csv('../data/arf1_cleaned.csv', index_col=0)\n",
    "# build_stop_codon_genome_metadata_dataset(arf1_df.genome_id.unique())\n",
    "stop_codon_genome_metadata_df = pd.read_csv('../data/stop_codon_genome_metadata.csv', index_col=0)\n",
    "\n",
    "arf1_df['tag_count'] = arf1_df.genome_id.map(stop_codon_genome_metadata_df.groupby('genome_id').TAG.first())\n",
    "arf1_df['stop_codon_count'] = arf1_df.genome_id.map(stop_codon_genome_metadata_df.groupby('genome_id')['total'].first())\n",
    "arf1_df['tag_percent'] = arf1_df.tag_count / arf1_df.stop_codon_count\n",
    "\n",
    "\n",
    "# I think more granular categories could be helpful:\n",
    "# (1) Pyl+ and largely re-coded (TAG < 5%)\n",
    "# (2) Pyl+ which still use lots of TAG stops (TAG > 5%) \n",
    "# (3) Pyl- (including the weird outliers\n",
    "\n",
    "masks = dict()\n",
    "masks['pyl+ recoded'] = (arf1_df.tag_percent < 0.05) & (arf1_df.has_pyl)\n",
    "masks['pyl+'] = (arf1_df.tag_percent >= 0.05) & (arf1_df.has_pyl)\n",
    "masks['pyl-'] = (~arf1_df.has_pyl)\n",
    "\n",
    "categories = list(masks.keys())\n",
    "arf1_df['category'] = np.select([masks[category] for category in categories], categories, default='none')"
   ]
  },
  {
   "cell_type": "code",
   "execution_count": 7,
   "id": "a1147f7c",
   "metadata": {},
   "outputs": [
    {
     "name": "stdout",
     "output_type": "stream",
     "text": [
      "Num. clusters: 644\n"
     ]
    }
   ],
   "source": [
    "# mmseqs easy-cluster arf1_cleaned.fa arf1_cleaned tmp/ --min-seq-id 0.8\n",
    "cluster_df = pd.read_csv('../data/arf1_cleaned_cluster.tsv', sep='\\t', names=['rep_id', 'id'])\n",
    "cluster_df = cluster_df.set_index('id')\n",
    "cluster_ids = {rep_id:i for i, rep_id in enumerate(cluster_df.rep_id.unique())}\n",
    "cluster_df['cluster_id'] = cluster_df.rep_id.map(cluster_ids)\n",
    "cluster_df['representative'] = cluster_df.index == cluster_df.rep_id\n",
    "cluster_df['cluster_size'] = cluster_df.cluster_id.map(cluster_df.groupby('cluster_id').size())\n",
    "cluster_df['category'] = arf1_df.category\n",
    "cluster_df['order'] = arf1_df.order\n",
    "cluster_df['genus'] = arf1_df.genus\n",
    "cluster_df['seq'] = arf1_df.seq\n",
    "print('Num. clusters:', cluster_df.rep_id.nunique())"
   ]
  },
  {
   "cell_type": "code",
   "execution_count": 21,
   "id": "c5faeede",
   "metadata": {},
   "outputs": [
    {
     "name": "stdout",
     "output_type": "stream",
     "text": [
      "Num. clusters with size > 5: 79\n",
      "Num. homogenous clusters: 79\n"
     ]
    }
   ],
   "source": [
    "min_cluster_size = 5\n",
    "print(f'Num. clusters with size > {min_cluster_size}:', (cluster_df.groupby('cluster_id').size() > min_cluster_size).sum())\n",
    "cluster_df = cluster_df[cluster_df.cluster_size > min_cluster_size].copy()\n",
    "\n",
    "print('Num. homogenous clusters:', cluster_df.groupby('cluster_id').apply(is_homogenous, include_groups=False).sum())\n",
    "cluster_df['homogenous'] = cluster_df.cluster_id.map(cluster_df.groupby('cluster_id').apply(is_homogenous, include_groups=False))\n",
    "cluster_df = cluster_df[cluster_df.homogenous].copy()\n",
    "cluster_rep_df = cluster_df[cluster_df.representative].copy()\n",
    "\n",
    "FASTAFile().from_df(cluster_df[cluster_df.representative]).write('../data/arf1_cleaned_rep_seq.fasta')\n",
    "\n",
    "# ! ~/muscle5.1.linux_intel64 -align ../data/arf1_cleaned_rep_seq.fasta -output ../data/arf1_cleaned_rep_seq.afa\n",
    "# ! fasttree ../data/arf1_cleaned_rep_seq.afa > ../data/arf1_cleaned_rep_seq.tree"
   ]
  },
  {
   "cell_type": "code",
   "execution_count": 16,
   "id": "f84a0f85",
   "metadata": {},
   "outputs": [],
   "source": [
    "tree = Phylo.read('../data/arf1_cleaned_rep_seq.tree', 'newick')\n",
    "\n",
    "rep_ids = cluster_rep_df.index.unique()\n",
    "d = pd.DataFrame(columns=rep_ids, index=rep_ids)\n",
    "\n",
    "# for id_1, id_2 in product(rep_ids, repeat=2):\n",
    "#     dist = tree.distance(tree.find_any(id_1), tree.find_any(id_2))\n",
    "#     d.loc[id_1, id_2] = dist\n",
    "\n",
    "pair_df = list()\n",
    "max_dist, min_dist = 0.9, 0.6\n",
    "for id_1, id_2 in combinations(rep_ids, 2):\n",
    "    dist = tree.distance(tree.find_any(id_1), tree.find_any(id_2))\n",
    "    if (dist > min_dist) and (dist < max_dist):\n",
    "        row = dict()\n",
    "        row['id_1'], row['id_2'] = id_1, id_2\n",
    "        row['category_1'], row['category_2'] = arf1_df.loc[id_1].category, arf1_df.loc[id_2].category\n",
    "        row['cluster_id_1'], row['cluster_id_2'] = cluster_df.loc[id_1].cluster_id, cluster_df.loc[id_2].cluster_id\n",
    "        row['distance'] = dist\n",
    "        pair_df.append(row)\n",
    "\n",
    "pair_df = pd.DataFrame(pair_df)\n",
    "pair_df['pair_category'] = [' vs. '.join(sorted([row.category_1, row.category_2])) for row in pair_df.itertuples()]"
   ]
  },
  {
   "cell_type": "code",
   "execution_count": 17,
   "id": "86e43230",
   "metadata": {},
   "outputs": [],
   "source": [
    "figure_df = list()\n",
    "# for row in pair_df[pair_df.pair_category.isin(palette.keys())].itertuples():\n",
    "\n",
    "for row in pair_df.itertuples():\n",
    "    ids = cluster_df[cluster_df.cluster_id.isin([row.cluster_id_1, row.cluster_id_2])].index\n",
    "    index, alignment = load_msa(path='../data/arf1_cleaned.afa', conservation_threshold=0.9, ids=ids) # Should load the sequences from Methanosarcinales only. \n",
    "    # positions = positions_ if (positions is None) else positions \n",
    "\n",
    "    alignment_df = pd.DataFrame(alignment, index=index)\n",
    "    alignment_df['cluster_id'] = cluster_df.cluster_id\n",
    "    scores = get_scores(alignment_df, group_by='cluster_id', normalize=True)\n",
    "    # sns.lineplot(x=np.arange(len(scores)), y=scores, color=palette[row.pair_category])\n",
    "    positions = np.arange(len(scores))[scores > 0.95]\n",
    "    df = pd.DataFrame(pd.Series(positions, name='highest_score_positions'))\n",
    "    df['pair_category'] = row.pair_category\n",
    "    df['alignment_length'] = alignment.shape[-1]\n",
    "    figure_df.append(df)\n",
    "figure_df = pd.concat(figure_df)"
   ]
  },
  {
   "cell_type": "code",
   "execution_count": 18,
   "id": "581ddcaf",
   "metadata": {},
   "outputs": [
    {
     "data": {
      "image/png": "[encoded data removed]",
      "text/plain": [
       "<Figure size 1500x300 with 1 Axes>"
      ]
     },
     "metadata": {},
     "output_type": "display_data"
    }
   ],
   "source": [
    "\n",
    "fig, ax = plt.subplots(figsize=(15, 3))\n",
    "palette = {'pyl- vs. pyl-':'gray', 'pyl+ recoded vs. pyl-':'steelblue'}\n",
    "# palette = {'pyl- vs. pyl-':'gray', 'pyl+ recoded vs. pyl-':'steelblue', 'pyl+ vs. pyl-':'lightgray'}\n",
    "\n",
    "# sns.kdeplot(figure_df[figure_df.pair_category.isin(palette.keys())], ax=ax, x='highest_score_positions', hue='pair_category', common_norm=False, bw_adjust=0.1, palette=palette)\n",
    "sns.histplot(figure_df[figure_df.pair_category.isin(palette.keys())], ax=ax, x='highest_score_positions', hue='pair_category', common_norm=False, bins=150, stat='probability', palette=palette, multiple='dodge')\n",
    "sns.move_legend(ax, loc='upper right')\n",
    "ax.legend_.set_title('')\n",
    "ax.set_xlim(xmin=0, xmax=416)\n",
    "ax.set_ylabel('probability')\n",
    "\n",
    "min_position, max_position = 55, 150\n",
    "values_1 = figure_df[figure_df.pair_category == 'pyl+ recoded vs. pyl-'].highest_score_positions.values\n",
    "values_2 = figure_df[figure_df.pair_category == 'pyl- vs. pyl-'].highest_score_positions.values\n",
    "\n",
    "values_1 = values_1[(values_1 > min_position) & (values_1 < max_position)]\n",
    "values_2 = values_2[(values_2 > min_position) & (values_2 < max_position)]\n",
    "stat, p = mannwhitneyu(values_1, values_2, alternative='two-sided')\n",
    "ax.text(0.02, 0.9, '$p_{MWU}=$' + f'{p:.4f}', transform=ax.transAxes)\n",
    "\n",
    "ax.axvline(min_position, color='black', ls='--', lw=0.5)\n",
    "ax.axvline(max_position, color='black', ls='--', lw=0.5)\n",
    "\n",
    "plt.show()\n",
    "# https://pmc.ncbi.nlm.nih.gov/articles/PMC3795251/\n",
    "\n"
   ]
  },
  {
   "cell_type": "code",
   "execution_count": 19,
   "id": "3414cdab",
   "metadata": {},
   "outputs": [
    {
     "data": {
      "text/plain": [
       "1"
      ]
     },
     "execution_count": 19,
     "metadata": {},
     "output_type": "execute_result"
    }
   ],
   "source": [
    "# Want to create an annotation file where the orders are annotated. Need to get the internal node shared by all genus members. \n",
    "tree = Phylo.read('../data/arf1_cleaned_rep_seq.tree', 'newick')\n",
    "\n",
    "# First need to label the internal nodes. \n",
    "for order, df in cluster_rep_df.groupby('order'):\n",
    "    order_ids = df.index.tolist()\n",
    "    clades = [tree.find_any(id_) for id_ in order_ids]\n",
    "    lca = tree.common_ancestor(clades)\n",
    "    lca.confidence = None # Prevents Biopython from interpreting the names as floats, for some reason. \n",
    "    lca.name = order\n",
    "Phylo.write(tree, '../data/arf1_cluster_rep_seq_with_order_labels.tree', format='newick')"
   ]
  },
  {
   "cell_type": "code",
   "execution_count": 20,
   "id": "fc355fa1",
   "metadata": {},
   "outputs": [],
   "source": [
    "lines = ['DATASET_TEXT']\n",
    "lines += ['SEPARATOR COMMA']\n",
    "lines += ['DATASET_LABEL,dataset']\n",
    "lines += ['COLOR,#ff0000']\n",
    "lines += ['MARGIN,0'] # Left margin, used to increase/decrease the spacing to the next dataset.\n",
    "lines += ['SHOW_INTERNAL,1'] # If set, text labels associated to internal nodes will be displayed even if these nodes are not collapsed. It could cause overlapping in the dataset display.\n",
    "lines += ['ALL_LABELS_ROTATION,0'] # Rotate all labels by the specified angle\n",
    "lines += ['LABELS_BELOW,1'] # By default, internal labels will be placed above the branches. If LABELS_BELOW is set to 1, labels will be below the branches\n",
    "lines += ['VERTICAL_SHIFT,0'] # Shift internal labels vertically by this amount of pixels (positive or negative)\n",
    "lines += ['STRAIGHT_LABELS,0'] # If set to 1, tree rotation will not influence the individual label rotation\n",
    "lines += ['ALIGN_TO_TREE,0'] # If set to 1, labels will be displayed in arcs aligned to the tree (in circular mode) or vertically (in normal mode)\n",
    "lines += ['SIZE_FACTOR,1']\n",
    "lines += ['EXTERNAL_LABEL_SHIFT,0']\n",
    "lines += ['DATA']\n",
    "\n",
    "for order in cluster_rep_df.order.unique():\n",
    "    if order != 'Methanomassiliicoccales':\n",
    "        lines += [f'{order},{order},-1,{gray},normal,1']\n",
    "\n",
    "with open('test.txt', 'w') as f:\n",
    "    f.write('\\n'.join(lines))"
   ]
  },
  {
   "cell_type": "code",
   "execution_count": 14,
   "id": "36ef5170",
   "metadata": {},
   "outputs": [],
   "source": [
    "lines = ['DATASET_TEXT']\n",
    "lines += ['SEPARATOR COMMA']\n",
    "lines += ['DATASET_LABEL,dataset']\n",
    "lines += ['COLOR,#ff0000']\n",
    "lines += ['MARGIN,0'] # Left margin, used to increase/decrease the spacing to the next dataset.\n",
    "lines += ['SHOW_INTERNAL,1'] # If set, text labels associated to internal nodes will be displayed even if these nodes are not collapsed. It could cause overlapping in the dataset display.\n",
    "lines += ['ALL_LABELS_ROTATION,0'] # Rotate all labels by the specified angle\n",
    "lines += ['LABELS_BELOW,1'] # By default, internal labels will be placed above the branches. If LABELS_BELOW is set to 1, labels will be below the branches\n",
    "lines += ['VERTICAL_SHIFT,0'] # Shift internal labels vertically by this amount of pixels (positive or negative)\n",
    "lines += ['STRAIGHT_LABELS,0'] # If set to 1, tree rotation will not influence the individual label rotation\n",
    "lines += ['ALIGN_TO_TREE,0'] # If set to 1, labels will be displayed in arcs aligned to the tree (in circular mode) or vertically (in normal mode)\n",
    "lines += ['SIZE_FACTOR,1']\n",
    "lines += ['EXTERNAL_LABEL_SHIFT,0']\n",
    "lines += ['DATA']\n",
    "\n",
    "for order in cluster_rep_df.order.unique():\n",
    "    if order != 'Methanomassiliicoccales':\n",
    "        lines += [f'{order},<n>{order}</n>,-1,{gray},normal,1']\n",
    "\n",
    "with open('test.txt', 'w') as f:\n",
    "    f.write('\\n'.join(lines))"
   ]
  },
  {
   "cell_type": "code",
   "execution_count": 15,
   "id": "c46d378e",
   "metadata": {},
   "outputs": [],
   "source": [
    "connections = list(zip(pair_df.id_1, pair_df.id_2))\n",
    "make_itol_tanglegram(connections, path='../data/itol/arf1_cleaned_rep_seq_tanglegram.txt')\n",
    "make_itol_connection(connections, path='../data/itol/arf1_cleaned_rep_seq_connection.txt')\n",
    "\n",
    "palette = {'pyl+ recoded':darkgreen, 'pyl-':red, 'pyl+':lightblue}\n",
    "make_itol_annotation(cluster_rep_df, field='category', path='../data/itol/arf1_cleaned_rep_seq_category_annotation.txt', palette=palette)\n"
   ]
  },
  {
   "cell_type": "code",
   "execution_count": null,
   "id": "07e789eb",
   "metadata": {},
   "outputs": [],
   "source": []
  }
 ],
 "metadata": {
  "kernelspec": {
   "display_name": "pyrrolysine",
   "language": "python",
   "name": "python3"
  },
  "language_info": {
   "codemirror_mode": {
    "name": "ipython",
    "version": 3
   },
   "file_extension": ".py",
   "mimetype": "text/x-python",
   "name": "python",
   "nbconvert_exporter": "python",
   "pygments_lexer": "ipython3",
   "version": "3.13.7"
  }
 },
 "nbformat": 4,
 "nbformat_minor": 5
}
