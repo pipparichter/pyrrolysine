{
 "cells": [
  {
   "cell_type": "code",
   "execution_count": 2,
   "id": "cf53037f",
   "metadata": {},
   "outputs": [],
   "source": [
    "import pandas as pd \n",
    "import numpy as np \n",
    "import os\n",
    "import seaborn as sns\n",
    "import matplotlib.pyplot as plt\n",
    "from src.files.fasta import FASTAFile\n",
    "from Bio import Phylo\n",
    "from itertools import product, combinations\n",
    "from utils import *\n",
    "from src.coevolution import get_scores\n",
    "from scipy.stats import mannwhitneyu\n",
    "from src.files.itol import *\n",
    "import io \n",
    "\n",
    "%load_ext autoreload \n",
    "%autoreload 2\n",
    "\n",
    "is_homogenous = lambda df : df.category.nunique() == 1"
   ]
  },
  {
   "cell_type": "code",
   "execution_count": 9,
   "id": "104846f0",
   "metadata": {},
   "outputs": [
    {
     "name": "stdout",
     "output_type": "stream",
     "text": [
      "Num. sequences being discarded which are not in either Pyl+ recoded or Pyl- categories: 73\n"
     ]
    }
   ],
   "source": [
    "# Want to compare the regions where the divergence scores are highest. Would expect to see higher divergence scores around\n",
    "# the N-terminus when comparing Pyl+ vs. Pyl-. Probably should control for evolutionary distance, i.e. compare clades which are similarly\n",
    "# distant. Probably the easiest way to do this is by clustering the release factors and then building a tree of the representatives. \n",
    "\n",
    "arf1_df = pd.read_csv('../data/arf1_cleaned.csv', index_col=0)\n",
    "# build_stop_codon_genome_metadata_dataset(arf1_df.genome_id.unique())\n",
    "stop_codon_genome_metadata_df = pd.read_csv('../data/arf1_stop_codon_metadata.csv', index_col=0)\n",
    "\n",
    "arf1_df['tag_count'] = arf1_df.genome_id.map(stop_codon_genome_metadata_df.groupby('genome_id').TAG.first())\n",
    "arf1_df['stop_codon_count'] = arf1_df.genome_id.map(stop_codon_genome_metadata_df.groupby('genome_id')['total'].first())\n",
    "arf1_df['tag_percent'] = arf1_df.tag_count / arf1_df.stop_codon_count\n",
    "\n",
    "\n",
    "# I think more granular categories could be helpful:\n",
    "# (1) Pyl+ and largely re-coded (TAG < 5%)\n",
    "# (2) Pyl+ which still use lots of TAG stops (TAG > 5%) \n",
    "# (3) Pyl- (including the weird outliers\n",
    "\n",
    "masks = dict()\n",
    "masks['pyl+'] = (arf1_df.tag_percent < 0.05) & (arf1_df.has_pyl)\n",
    "masks['pyl-'] = (~arf1_df.has_pyl)\n",
    "\n",
    "categories = list(masks.keys())\n",
    "arf1_df['category'] = np.select([masks[category] for category in categories], categories, default='none')\n",
    "print('Num. sequences being discarded which are not in either Pyl+ recoded or Pyl- categories:', (arf1_df.category == 'none').sum())\n",
    "arf1_df = arf1_df[arf1_df.category != 'none'].copy()"
   ]
  },
  {
   "cell_type": "code",
   "execution_count": null,
   "id": "ec32e364",
   "metadata": {},
   "outputs": [],
   "source": [
    "# with open('../data/ar53.tree', 'r') as f:\n",
    "#     tree = f.read()\n",
    "# tree = tree.replace('RS_', '').replace('GB_', '') # Remove the prefixes to allow mapping. \n",
    "# tree = get_tree_subset(tree, ids=arf1_df.genome_id.values)\n",
    "# tree = Phylo.read(io.StringIO(tree), format='newick')\n",
    "# Phylo.write(tree, 'ar53_pruned.tree', format='newick')"
   ]
  },
  {
   "cell_type": "code",
   "execution_count": 4,
   "id": "a1147f7c",
   "metadata": {},
   "outputs": [],
   "source": [
    "# I think the clustering approach from sandbox-1 is flawed, because it is pretty clear that aRF1 similarity might not track phylogeny. \n",
    "# By clustering by aRF1 similarity, I am kind of defeating the purpose of controlling for phylogeny in the comparisons. I think \n",
    "# instead of clustering, it might make more sense to count the number of significant mutations between similarly-related organisms\n",
    "# in different categories. "
   ]
  },
  {
   "cell_type": "code",
   "execution_count": 18,
   "id": "a395708c",
   "metadata": {},
   "outputs": [
    {
     "name": "stderr",
     "output_type": "stream",
     "text": [
      "get_distances: 100%|██████████| 2917320/2917320 [48:08<00:00, 1010.11it/s] \n"
     ]
    }
   ],
   "source": [
    "tree = Phylo.read('../data/ar53_pruned.tree', format='newick')\n",
    "\n",
    "def get_distances(arf1_df, tree, max_distance=2.5):\n",
    "\n",
    "    arf1_df = arf1_df.copy()\n",
    "    arf1_df['protein_id'] = arf1_df.index \n",
    "    arf1_df = arf1_df.set_index('genome_id') # Need to use the genome ID as an index to work with the tree. \n",
    "\n",
    "    # Precompute the distances to the roots. \n",
    "    leaves = [tree.find_any(genome_id) for genome_id in arf1_df.index]\n",
    "    distances_to_root = {leaf:tree.distance(tree.root, leaf) for leaf in leaves} # Can use the clade objects themselves as keys. \n",
    "\n",
    "    distance_df = list()\n",
    "\n",
    "    for leaf_1, leaf_2 in tqdm(list(combinations(leaves, 2)), desc='get_distances'):\n",
    "        genome_id_1, genome_id_2 = leaf_1.name, leaf_2.name \n",
    "        row = {'genome_id_1':leaf_1.name, 'genome_id_2':leaf_2.name}\n",
    "\n",
    "        lca = tree.common_ancestor(leaf_1, leaf_2) # Using the LCA to get distance is *much* faster (thanks ChatGPT)... should look into why. \n",
    "        lca_distance_to_root = distances_to_root.get(lca, tree.distance(tree.root, lca)) # Only compute the distance if it's not already in the dictionary. \n",
    "        distances_to_root[lca] = lca_distance_to_root # Store in the lookup table. \n",
    "        distance = distances_to_root[leaf_1] + distances_to_root[leaf_2] - (2 * lca_distance_to_root)\n",
    "\n",
    "        if distance < max_distance:\n",
    "            row['distance'] = distance \n",
    "            row['category_1'], row['category_2'] = arf1_df.loc[genome_id_1].category, arf1_df.loc[genome_id_2].category\n",
    "            row['protein_id_1'], row['protein_id_2'] = arf1_df.loc[genome_id_1].protein_id, arf1_df.loc[genome_id_2].protein_id\n",
    "            row['category'] = ' vs. '.join(sorted([row['category_1'], row['category_2']]))\n",
    "            distance_df.append(row) # Only add if the distance is not too far. \n",
    "\n",
    "    distance_df = pd.DataFrame(distance_df)\n",
    "    return distance_df\n",
    "\n",
    "tree = Phylo.read('../data/ar53_pruned.tree', format='newick')\n",
    "distance_df = get_distances(arf1_df, tree)\n",
    "        "
   ]
  },
  {
   "cell_type": "code",
   "execution_count": 20,
   "id": "71c17080",
   "metadata": {},
   "outputs": [],
   "source": [
    "distance_df.to_csv('../data/arf1_pair_distances.csv')"
   ]
  },
  {
   "cell_type": "code",
   "execution_count": 269,
   "id": "c5faeede",
   "metadata": {},
   "outputs": [
    {
     "name": "stdout",
     "output_type": "stream",
     "text": [
      "Num. clusters with size > 4: 104\n",
      "Num. homogenous clusters: 98\n",
      "run_muscle: Generating file ../data/arf1_cleaned_rep_seq.afa\n"
     ]
    }
   ],
   "source": [
    "min_cluster_size = 4\n",
    "print(f'Num. clusters with size > {min_cluster_size}:', (cluster_df.groupby('cluster_id').size() > min_cluster_size).sum())\n",
    "cluster_df = cluster_df[cluster_df.cluster_size > min_cluster_size].copy()\n",
    "\n",
    "print('Num. homogenous clusters:', cluster_df.groupby('cluster_id').apply(is_homogenous, include_groups=False).sum())\n",
    "cluster_df['homogenous'] = cluster_df.cluster_id.map(cluster_df.groupby('cluster_id').apply(is_homogenous, include_groups=False))\n",
    "cluster_df = cluster_df[cluster_df.homogenous].copy()\n",
    "cluster_rep_df = cluster_df[cluster_df.representative].copy()\n",
    "\n",
    "# Use the genome ID as the index here to allow mapping to the tree. \n",
    "FASTAFile().from_df(cluster_df[cluster_df.representative].set_index('genome_id')).write('../data/arf1_cleaned_rep_seq.fasta')\n",
    "run_muscle('../data/arf1_cleaned_rep_seq.fasta', build_tree=False)"
   ]
  },
  {
   "cell_type": "code",
   "execution_count": null,
   "id": "ef0f9541",
   "metadata": {},
   "outputs": [],
   "source": []
  },
  {
   "cell_type": "code",
   "execution_count": 276,
   "id": "f84a0f85",
   "metadata": {},
   "outputs": [],
   "source": [
    "\n",
    "rep_genome_ids = cluster_rep_df.genome_id.unique()\n",
    "tree = Phylo.read('../data/ar53_pruned.tree', format='newick')\n",
    "tree = get_tree_subset(tree, ids=rep_genome_ids)\n",
    "Phylo.write(tree, '../data/arf1_cleaned_cluster_rep_seq.tree', format='newick')\n",
    "\n",
    "def get_comparison_pairs(cluster_df, tree, rep_genome_ids:list=None, min_dist=0, max_dist=5):\n",
    "\n",
    "    cluster_df['protein_id'] = cluster_df.index\n",
    "    cluster_df = cluster_df.copy().set_index('genome_id') # Use the genome ID as the index to allow cross-referencing to the tree. \n",
    "\n",
    "    pair_df = list()\n",
    "    for id_1, id_2 in combinations(rep_genome_ids, 2):\n",
    "        dist = tree.distance(tree.find_any(id_1), tree.find_any(id_2))\n",
    "        if (dist > min_dist) and (dist < max_dist):\n",
    "            row = dict()\n",
    "            row['id_1'], row['id_2'] = id_1, id_2\n",
    "            row['protein_id_1'], row['protein_id_2'] = cluster_df.loc[id_1].protein_id, cluster_df.loc[id_2].protein_id\n",
    "            row['category_1'], row['category_2'] = cluster_df.loc[id_1].category, cluster_df.loc[id_2].category\n",
    "            row['cluster_id_1'], row['cluster_id_2'] = cluster_df.loc[id_1].cluster_id, cluster_df.loc[id_2].cluster_id\n",
    "            row['distance'] = dist\n",
    "            pair_df.append(row)\n",
    "\n",
    "    pair_df = pd.DataFrame(pair_df)\n",
    "    pair_df['pair_category'] = [' vs. '.join(sorted([row.category_1, row.category_2])) for row in pair_df.itertuples()]\n",
    "    return pair_df\n",
    "\n",
    "pair_df = get_comparison_pairs(cluster_rep_df, tree, rep_genome_ids=rep_genome_ids)"
   ]
  },
  {
   "cell_type": "code",
   "execution_count": 277,
   "id": "545c8024",
   "metadata": {},
   "outputs": [
    {
     "data": {
      "image/png": "[encoded data removed]",
      "text/plain": [
       "<Figure size 300x300 with 1 Axes>"
      ]
     },
     "metadata": {},
     "output_type": "display_data"
    }
   ],
   "source": [
    "min_dist, max_dist = 1.3, 1.9\n",
    "\n",
    "# Select pyl+ recoded vs. pyl- pairs in the distance range. \n",
    "ids = pair_df[(pair_df.pair_category ==  'pyl+ recoded vs. pyl-') & (pair_df.distance < max_dist) & (pair_df.distance > min_dist)].index.tolist()\n",
    "distances = pair_df.loc[ids].distance\n",
    "\n",
    "def get_pyl_minus_vs_pyl_minus_ids(pair_df, distances, delta:float=0.05, n_per_distance:int=5):\n",
    "    np.random.seed(42)\n",
    "    sample_ids = list()\n",
    "    for distance in distances:\n",
    "        ids_ = pair_df[(pair_df.distance < (distance + delta)) & (pair_df.distance > (distance - delta)) & (pair_df.pair_category == 'pyl- vs. pyl-')].index\n",
    "        ids_ = np.random.choice(ids_, n_per_distance, replace=False)\n",
    "        sample_ids += ids_.tolist()\n",
    "    return sample_ids\n",
    "\n",
    "sample_ids = ids + get_pyl_minus_vs_pyl_minus_ids(pair_df, distances)\n",
    "\n",
    "# Visualize the samples to ensure the phylogenetic distance distributions are approzimately equal. \n",
    "fig, ax = plt.subplots(figsize=(3, 3))\n",
    "figure_df = pair_df.loc[sample_ids].copy()\n",
    "figure_df = figure_df[figure_df.pair_category.isin(['pyl- vs. pyl-', 'pyl+ recoded vs. pyl-'])].copy()\n",
    "figure_df['pair_category'] = figure_df.pair_category.replace({'pyl+ recoded vs. pyl-':'pyl+ vs. pyl-'})\n",
    "\n",
    "sns.violinplot(figure_df, x='pair_category', y='distance', ax=ax, color='gray', linewidth=0.5, edgecolor='white', inner='point') #, jitter=True)\n",
    "ax.set_xlabel('')\n",
    "plt.show()"
   ]
  },
  {
   "cell_type": "code",
   "execution_count": 272,
   "id": "86e43230",
   "metadata": {},
   "outputs": [],
   "source": [
    "figure_df = list()\n",
    "\n",
    "for row in pair_df.loc[sample_ids].itertuples():\n",
    "    ids = cluster_df[cluster_df.cluster_id.isin([row.cluster_id_1, row.cluster_id_2])].index\n",
    "    index, alignment = load_msa(path='../data/arf1_cleaned.afa', conservation_threshold=0.9, ids=ids) # Should load the sequences from Methanosarcinales only. \n",
    "\n",
    "    alignment_df = pd.DataFrame(alignment, index=index)\n",
    "    alignment_df['cluster_id'] = cluster_df.cluster_id\n",
    "    scores = get_scores(alignment_df, group_by='cluster_id', normalize=True)\n",
    "    positions = np.arange(len(scores))[scores > 0.99]\n",
    "    df = pd.DataFrame(pd.Series(positions, name='highest_score_positions'))\n",
    "    df['pair_category'] = row.pair_category\n",
    "    df['id_1'], df['id_2'] = row.id_1, row.id_2\n",
    "    df['alignment_length'] = alignment.shape[-1]\n",
    "    figure_df.append(df)\n",
    "figure_df = pd.concat(figure_df)"
   ]
  },
  {
   "cell_type": "code",
   "execution_count": 273,
   "id": "581ddcaf",
   "metadata": {},
   "outputs": [
    {
     "data": {
      "image/png": "[encoded data removed]",
      "text/plain": [
       "<Figure size 1500x300 with 1 Axes>"
      ]
     },
     "metadata": {},
     "output_type": "display_data"
    }
   ],
   "source": [
    "\n",
    "fig, ax = plt.subplots(figsize=(15, 3))\n",
    "palette = {'pyl- vs. pyl-':'lightgray', 'pyl+ recoded vs. pyl-':'steelblue'}\n",
    "# palette = {'pyl- vs. pyl-':'gray', 'pyl+ recoded vs. pyl-':'steelblue', 'pyl+ vs. pyl-':'lightgray'}\n",
    "\n",
    "# sns.kdeplot(figure_df[figure_df.pair_category.isin(palette.keys())], ax=ax, x='highest_score_positions', hue='pair_category', common_norm=False, bw_adjust=0.1, palette=palette)\n",
    "sns.histplot(figure_df[figure_df.pair_category.isin(palette.keys())], ax=ax, x='highest_score_positions', hue='pair_category', common_norm=False, bins=250, stat='probability', palette=palette, multiple='dodge')\n",
    "sns.move_legend(ax, loc='upper right')\n",
    "ax.legend_.set_title('')\n",
    "ax.set_xlim(xmin=0, xmax=416)\n",
    "ax.set_ylabel('probability')\n",
    "\n",
    "min_position, max_position = 55, 150\n",
    "values_1 = figure_df[figure_df.pair_category == 'pyl+ recoded vs. pyl-'].highest_score_positions.values\n",
    "values_2 = figure_df[figure_df.pair_category == 'pyl- vs. pyl-'].highest_score_positions.values\n",
    "\n",
    "values_1 = values_1[(values_1 > min_position) & (values_1 < max_position)]\n",
    "values_2 = values_2[(values_2 > min_position) & (values_2 < max_position)]\n",
    "stat, p = mannwhitneyu(values_1, values_2, alternative='two-sided')\n",
    "ax.text(0.02, 0.9, '$p_{MWU}=$' + f'{p:.4f}', transform=ax.transAxes)\n",
    "\n",
    "ax.axvline(min_position, color='black', ls='--', lw=0.5)\n",
    "ax.axvline(max_position, color='black', ls='--', lw=0.5)\n",
    "\n",
    "plt.show()\n",
    "# https://pmc.ncbi.nlm.nih.gov/articles/PMC3795251/\n",
    "\n"
   ]
  },
  {
   "cell_type": "code",
   "execution_count": 274,
   "id": "c46d378e",
   "metadata": {},
   "outputs": [],
   "source": [
    "connections = figure_df.drop_duplicates(['id_1', 'id_2'])\n",
    "connections = list(zip(connections[connections.pair_category == 'pyl+ recoded vs. pyl-'].id_1, connections[connections.pair_category == 'pyl+ recoded vs. pyl-'].id_2))\n",
    "\n",
    "make_itol_connection(connections, path='../data/itol/arf1_cleaned_rep_seq_connection.txt')\n",
    "\n",
    "palette = {'pyl+ recoded':darkgreen, 'pyl-':gray, 'pyl+':black}\n",
    "make_itol_annotation(cluster_rep_df.set_index('genome_id'), field='category', path='../data/itol/arf1_cleaned_rep_seq_category_annotation.txt', palette=palette)\n"
   ]
  },
  {
   "cell_type": "code",
   "execution_count": null,
   "id": "07e789eb",
   "metadata": {},
   "outputs": [],
   "source": []
  }
 ],
 "metadata": {
  "kernelspec": {
   "display_name": "pyrrolysine",
   "language": "python",
   "name": "python3"
  },
  "language_info": {
   "codemirror_mode": {
    "name": "ipython",
    "version": 3
   },
   "file_extension": ".py",
   "mimetype": "text/x-python",
   "name": "python",
   "nbconvert_exporter": "python",
   "pygments_lexer": "ipython3",
   "version": "3.13.7"
  }
 },
 "nbformat": 4,
 "nbformat_minor": 5
}
