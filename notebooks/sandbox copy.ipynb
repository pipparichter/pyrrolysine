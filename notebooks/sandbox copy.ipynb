{
 "cells": [
  {
   "cell_type": "code",
   "execution_count": 2,
   "id": "38314896",
   "metadata": {},
   "outputs": [],
   "source": [
    "import pandas as pd \n",
    "import numpy as np\n",
    "from src.download import *\n",
    "import zipfile \n",
    "import glob\n",
    "from tqdm import tqdm  \n",
    "import os\n",
    "from src.fasta import FASTAFile\n",
    "from sklearn.metrics import normalized_mutual_info_score, mutual_info_score, adjusted_mutual_info_score, completeness_score\n",
    "import seaborn as sns \n",
    "import matplotlib.pyplot as plt\n",
    "from scipy.stats import entropy \n",
    "import re\n",
    "import subprocess\n",
    "\n",
    "%load_ext autoreload\n",
    "%autoreload 2\n"
   ]
  },
  {
   "cell_type": "code",
   "execution_count": null,
   "id": "34a09f33",
   "metadata": {},
   "outputs": [],
   "source": [
    "genome_metadata_df = pd.read_csv('../data/ar53_metadata_r226.tsv', sep='\\t')\n",
    "genome_metadata_df.accession = [genome_id.replace('RS_','').replace('GB_', '') for genome_id in genome_metadata_df.accession]\n",
    "\n",
    "pyl_genome_metadata_df = pd.read_csv('../data/kivenson_2023_table_2.csv')\n",
    "pyl_genome_ids = pyl_genome_metadata_df['Assembly Accession'].tolist()\n",
    "pyl_genome_ids = pyl_genome_ids + [genome_id.replace('GCA', 'GCF') for genome_id in pyl_genome_ids]\n",
    "genome_metadata_df['pyl'] = genome_metadata_df.accession.isin(pyl_genome_ids)\n",
    "\n",
    "rep_genome_ids = genome_metadata_df.gtdb_genome_representative.unique()\n",
    "rep_genome_ids = [genome_id.replace('RS_','').replace('GB_', '') for genome_id in rep_genome_ids]\n",
    "\n",
    "# Download the GTDB representative and the ones with data in the paper.\n",
    "genome_ids = rep_genome_ids + pyl_genome_ids\n",
    "# downloader = NCBI()\n",
    "# downloader.get_genomes(genome_ids)\n",
    "extract()\n"
   ]
  },
  {
   "cell_type": "code",
   "execution_count": 108,
   "id": "833ee00f",
   "metadata": {},
   "outputs": [],
   "source": [
    "\n",
    "genome_metadata_df = genome_metadata_df[genome_metadata_df.accession.isin(genome_ids)].copy() # Filter for the representatives.\n",
    "\n",
    "downloaded_genome_ids = [file_name.replace('.fa', '') for file_name in os.listdir('../data/ncbi/proteins/')]\n",
    "genome_metadata_df = genome_metadata_df[genome_metadata_df.accession.isin(downloaded_genome_ids)]\n",
    "genome_metadata_df = genome_metadata_df.set_index('accession')"
   ]
  },
  {
   "cell_type": "code",
   "execution_count": 7,
   "id": "1385aa78",
   "metadata": {},
   "outputs": [
    {
     "name": "stderr",
     "output_type": "stream",
     "text": [
      "Running Prodigal with default code on Archaeal genomes.: 100%|██████████| 7440/7440 [3:39:07<00:00,  1.77s/it]     \n"
     ]
    }
   ],
   "source": [
    "for path in tqdm(glob.glob('../data/ncbi/genomes/*')[::-1], 'Running Prodigal with default code on Archaeal genomes.'):\n",
    "    output_path = os.path.basename(path).replace('.fn', '.fa')\n",
    "    output_path = os.path.join('../data/prodigal', output_path)\n",
    "    if not os.path.exists(output_path):\n",
    "        subprocess.run(f'prodigal -i {path} -a {output_path}', shell=True, check=True, stdout=subprocess.DEVNULL, stderr=subprocess.DEVNULL)"
   ]
  },
  {
   "cell_type": "code",
   "execution_count": null,
   "id": "b7606832",
   "metadata": {},
   "outputs": [
    {
     "name": "stderr",
     "output_type": "stream",
     "text": [
      "Running HMM search on Prodigal outputs.:   0%|          | 0/159 [00:00<?, ?it/s]"
     ]
    },
    {
     "name": "stderr",
     "output_type": "stream",
     "text": [
      "Running HMM search on Prodigal outputs.: 100%|██████████| 159/159 [00:07<00:00, 21.08it/s]\n"
     ]
    }
   ],
   "source": [
    "# for path in tqdm(glob.glob('../data/ncbi/genomes/*'), 'Running Prodigal with default code on Archaeal genomes.'):\n",
    "#     output_path = os.path.basename(path).replace('.fn', '.fa')\n",
    "#     output_path = os.path.join('../data/prodigal', output_path)\n",
    "#     subprocess.run(f'prodigal -i {path} -a {output_path}', shell=True, check=True, stdout=subprocess.DEVNULL, stderr=subprocess.DEVNULL)\n",
    "\n",
    "for path in tqdm(glob.glob('../data/prodigal/*'), 'Running HMM search on Prodigal outputs.'):\n",
    "    output_path = os.path.basename(path).replace('.fa', '.tab')\n",
    "    output_path = os.path.join('../data/hmmer', output_path)\n",
    "    if not os.path.exists(output_path):\n",
    "        subprocess.run(f'hmmsearch --tblout {output_path} ../data/arf1.hmm {path}', shell=True, check=True, stdout=subprocess.DEVNULL, stderr=subprocess.DEVNULL)"
   ]
  },
  {
   "cell_type": "code",
   "execution_count": 1,
   "id": "c72ca43a",
   "metadata": {},
   "outputs": [],
   "source": [
    "# def get_arf1(path:str):\n",
    "#     df = FASTAFile(path).to_df()\n",
    "#     df = df[df.description.str.contains('aRF-1')].copy()\n",
    "#     df['genome_id'] = os.path.basename(path).replace('.fa', '')\n",
    "#     return df \n",
    "\n",
    "# # Why doesn't every genome have a release factors?\n",
    "# if not os.path.exists('../data/arf1.csv'):\n",
    "#     arf1_df = [get_arf1(path) for path in tqdm(glob.glob('../data/ncbi/proteins/*'), desc='Collecting aRF-1 data.')]\n",
    "#     arf1_df = pd.concat(arf1_df)\n",
    "#     arf1_df.to_csv('../data/arf1.csv')\n",
    "# else:\n",
    "#     arf1_df = pd.read_csv('../data/arf1.csv', index_col=0)\n",
    "\n",
    "# arf1_df = arf1_df[~arf1_df.index.duplicated()].copy() # Drop duplicate indices.\n",
    "# genome_metadata_df['arf1'] = genome_metadata_df.index.isin(arf1_df.genome_id)\n",
    "\n",
    "# arf1_df['pyl'] = arf1_df.genome_id.map(genome_metadata_df.pyl)\n",
    "# arf1_df['category_1'] = arf1_df.genome_id.map(genome_metadata_df.category_1)\n",
    "# arf1_df['length'] = arf1_df.seq.apply(len)"
   ]
  },
  {
   "cell_type": "code",
   "execution_count": 99,
   "id": "f61d30f2",
   "metadata": {},
   "outputs": [
    {
     "name": "stdout",
     "output_type": "stream",
     "text": [
      "Num. clusters: 1086\n",
      "\n",
      "Cluster MDC7950810.1 size: 4\n",
      "Cluster MDR3206199.1 size: 11\n",
      "Cluster MDY0266392.1 size: 13\n",
      "Cluster UAL07510.1 size: 3\n",
      "Cluster WP_233084333.1 size: 13\n",
      "Cluster WP_324445400.1 size: 26\n",
      "Cluster WP_371854464.1 size: 28\n"
     ]
    }
   ],
   "source": [
    "# To make the MSA more tractable, going to subsample the aRF-1 sequences. Or perhaps try clustering first. \n",
    "# Do the release factors cluster together?\n",
    "\n",
    "# Clustered at 50% identity. \n",
    "arf1_cluster_df = pd.read_csv('../data/arf1_cluster.tsv', sep='\\t', names=['rep_id', 'id'])\n",
    "arf1_cluster_df['genome_id'] = arf1_cluster_df['id'].map(arf1_df.genome_id)\n",
    "arf1_cluster_df['category_1'] = arf1_cluster_df.genome_id.map(genome_metadata_df.category_1)\n",
    "arf1_cluster_df['pyl'] = arf1_cluster_df['id'].map(arf1_df.pyl)\n",
    "print('Num. clusters:', arf1_cluster_df.rep_id.nunique(), end='\\n\\n')\n",
    "\n",
    "interesting_arf1_rep_ids = list()\n",
    "for rep_id, df in arf1_cluster_df.groupby('rep_id'):\n",
    "    if np.any(df.pyl != df.pyl.iloc[0]):\n",
    "        print(f'Cluster {rep_id} size:', len(df))\n",
    "        interesting_arf1_rep_ids.append(rep_id)\n",
    "\n",
    "# There are six clusters where there are organisms that do and don't use Pyl. "
   ]
  },
  {
   "cell_type": "code",
   "execution_count": 100,
   "id": "9147da8f",
   "metadata": {},
   "outputs": [
    {
     "name": "stdout",
     "output_type": "stream",
     "text": [
      "Num. Pyl-using in cluster: 22\n",
      "Num. non-Pyl-using in cluster: 6\n"
     ]
    }
   ],
   "source": [
    "rep_id = 'WP_371854464.1'\n",
    "cluster_ids = arf1_cluster_df[arf1_cluster_df.rep_id == rep_id]['id'].values\n",
    "df = arf1_df.loc[cluster_ids].copy()\n",
    "FASTAFile(df=df).write(f'../data/{rep_id}_cluster.fa')\n",
    "\n",
    "print('Num. Pyl-using in cluster:', cluster_arf1_df.pyl.sum())\n",
    "print('Num. non-Pyl-using in cluster:', (~cluster_arf1_df.pyl).sum())\n",
    "\n",
    "\n",
    "dayhoff6 = {aa: grp for grp, aas in zip('abcdef', [['C'], ['A','G','P','S','T'], ['D','E','N','Q'], ['H','K','R'], ['I','L','M','V'], ['F','W','Y']]) for aa in aas}\n",
    "\n",
    "def load_alignment(path:str=f'../data/{rep_id}_cluster.afa', alphabet=dayhoff6):\n",
    "    df = FASTAFile(path=path).to_df()\n",
    "    index = df.index.values\n",
    "    alignment = [list(seq) for seq in df.seq]\n",
    "\n",
    "    if alphabet is not None:\n",
    "        alignment = [[alphabet.get(aa, '-') for aa in row] for row in alignment]\n",
    "\n",
    "    return index, np.array(alignment)\n",
    "\n",
    "index, alignment = load_alignment(alphabet=None)\n",
    "groups = np.array([arf1_df.loc[id_].pyl for id_ in index])"
   ]
  },
  {
   "cell_type": "code",
   "execution_count": 104,
   "id": "ff8ce423",
   "metadata": {},
   "outputs": [
    {
     "data": {
      "text/html": [
       "<div>\n",
       "<style scoped>\n",
       "    .dataframe tbody tr th:only-of-type {\n",
       "        vertical-align: middle;\n",
       "    }\n",
       "\n",
       "    .dataframe tbody tr th {\n",
       "        vertical-align: top;\n",
       "    }\n",
       "\n",
       "    .dataframe thead th {\n",
       "        text-align: right;\n",
       "    }\n",
       "</style>\n",
       "<table border=\"1\" class=\"dataframe\">\n",
       "  <thead>\n",
       "    <tr style=\"text-align: right;\">\n",
       "      <th></th>\n",
       "      <th>rep_id</th>\n",
       "      <th>id</th>\n",
       "      <th>genome_id</th>\n",
       "      <th>category_1</th>\n",
       "      <th>pyl</th>\n",
       "    </tr>\n",
       "  </thead>\n",
       "  <tbody>\n",
       "    <tr>\n",
       "      <th>1104</th>\n",
       "      <td>WP_042686727.1</td>\n",
       "      <td>WP_042686727.1</td>\n",
       "      <td>GCF_000711905.1</td>\n",
       "      <td>1.08</td>\n",
       "      <td>True</td>\n",
       "    </tr>\n",
       "    <tr>\n",
       "      <th>1466</th>\n",
       "      <td>MDR3206199.1</td>\n",
       "      <td>MDR3282945.1</td>\n",
       "      <td>GCA_031290095.1</td>\n",
       "      <td>43.75</td>\n",
       "      <td>True</td>\n",
       "    </tr>\n",
       "    <tr>\n",
       "      <th>1471</th>\n",
       "      <td>MDR3206199.1</td>\n",
       "      <td>MDR1404337.1</td>\n",
       "      <td>GCA_031267895.1</td>\n",
       "      <td>65.38</td>\n",
       "      <td>True</td>\n",
       "    </tr>\n",
       "    <tr>\n",
       "      <th>1569</th>\n",
       "      <td>WP_013193507.1</td>\n",
       "      <td>WP_292486895.1</td>\n",
       "      <td>GCF_018609725.1</td>\n",
       "      <td>26.47</td>\n",
       "      <td>True</td>\n",
       "    </tr>\n",
       "    <tr>\n",
       "      <th>1587</th>\n",
       "      <td>MCP8322823.1</td>\n",
       "      <td>MCP8322823.1</td>\n",
       "      <td>GCA_024256165.1</td>\n",
       "      <td>1.14</td>\n",
       "      <td>True</td>\n",
       "    </tr>\n",
       "    <tr>\n",
       "      <th>1750</th>\n",
       "      <td>UAL07510.1</td>\n",
       "      <td>UAL07510.1</td>\n",
       "      <td>GCA_019262145.1</td>\n",
       "      <td>36.36</td>\n",
       "      <td>True</td>\n",
       "    </tr>\n",
       "    <tr>\n",
       "      <th>1756</th>\n",
       "      <td>MDY0266392.1</td>\n",
       "      <td>MCL2862875.1</td>\n",
       "      <td>GCA_009784005.1</td>\n",
       "      <td>78.79</td>\n",
       "      <td>True</td>\n",
       "    </tr>\n",
       "    <tr>\n",
       "      <th>2036</th>\n",
       "      <td>MDW5564081.1</td>\n",
       "      <td>WP_019177744.1</td>\n",
       "      <td>GCF_000308215.1</td>\n",
       "      <td>3.04</td>\n",
       "      <td>True</td>\n",
       "    </tr>\n",
       "  </tbody>\n",
       "</table>\n",
       "</div>"
      ],
      "text/plain": [
       "              rep_id              id        genome_id  category_1   pyl\n",
       "1104  WP_042686727.1  WP_042686727.1  GCF_000711905.1        1.08  True\n",
       "1466    MDR3206199.1    MDR3282945.1  GCA_031290095.1       43.75  True\n",
       "1471    MDR3206199.1    MDR1404337.1  GCA_031267895.1       65.38  True\n",
       "1569  WP_013193507.1  WP_292486895.1  GCF_018609725.1       26.47  True\n",
       "1587    MCP8322823.1    MCP8322823.1  GCA_024256165.1        1.14  True\n",
       "1750      UAL07510.1      UAL07510.1  GCA_019262145.1       36.36  True\n",
       "1756    MDY0266392.1    MCL2862875.1  GCA_009784005.1       78.79  True\n",
       "2036    MDW5564081.1  WP_019177744.1  GCF_000308215.1        3.04  True"
      ]
     },
     "execution_count": 104,
     "metadata": {},
     "output_type": "execute_result"
    }
   ],
   "source": [
    "arf1_cluster_df[~arf1_cluster_df.category_1.isnull()]"
   ]
  },
  {
   "cell_type": "code",
   "execution_count": 75,
   "id": "4719d77e",
   "metadata": {},
   "outputs": [
    {
     "data": {
      "text/plain": [
       "array([ 0,  1,  2,  3,  4,  5,  6,  7,  8,  9, 10, 12, 13, 14, 16, 18, 19,\n",
       "       21, 23, 24, 25, 26])"
      ]
     },
     "execution_count": 75,
     "metadata": {},
     "output_type": "execute_result"
    }
   ],
   "source": [
    "# alignment[np.where(groups == True)[0]]\n",
    "np.where(groups == True)[0]"
   ]
  },
  {
   "cell_type": "code",
   "execution_count": null,
   "id": "9a6a750f",
   "metadata": {},
   "outputs": [
    {
     "name": "stdout",
     "output_type": "stream",
     "text": [
      "Num. completely conserved residues: 265\n"
     ]
    },
    {
     "data": {
      "image/png": "[encoded data removed]",
      "text/plain": [
       "<Figure size 640x480 with 1 Axes>"
      ]
     },
     "metadata": {},
     "output_type": "display_data"
    }
   ],
   "source": [
    "\n",
    "fig, ax = plt.subplots()\n",
    "\n",
    "# entropy = lambda probabilities : - sum([p * np.log2(p) for p in probabilities])\n",
    "\n",
    "# probabilities = [[(column == aa).mean() for aa in column] for column in alignment.T]\n",
    "# entropies = [entropy(p) for p in probabilities]\n",
    "# sns.lineplot(x=np.arange(len(entropies)), y=entropies)\n",
    "\n",
    "# probabilities = [[(column == aa).mean() for aa in column] for column in alignment[np.where(groups == True)].T]\n",
    "# entropies = [entropy,(p) for p in probabilities]\n",
    "# sns.lineplot(x=np.arange(len(entropies)), y=entropies)\n",
    "\n",
    "# Want things for which the completeness score is zero, but the \n",
    "# scores = [adjusted_mutual_info_score(column, groups) for column in alignment.T]\n",
    "\n",
    "domains = ['NIKS', 'Y.C...F', 'GGQ']\n",
    "\n",
    "\n",
    "conserved = [np.all(column == column[0]) for column in alignment.T]\n",
    "print('Num. completely conserved residues:', sum(conserved))\n",
    "scores = [completeness_score(groups, column) for column in alignment.T] # The completeness score metric is not symmetric.\n",
    "scores = np.where(conserved, np.nan, scores)\n",
    "\n",
    "seqs =  [''.join(row) for row in alignment]\n",
    "for domain in domains:\n",
    "    matches = np.array([re.search(domain, seq) for seq in seqs])\n",
    "    assert np.all([m is not None for m in matches]), 'Some sequences are missing critical domains.'\n",
    "    start, end = matches[0].start(), matches[0].end()\n",
    "    ax.hlines(0, xmin=start, xmax=end, color='tab:red', lw=2)\n",
    "\n",
    "sns.scatterplot(x=np.arange(len(scores)), y=scores)\n",
    "for i in np.where(scores > 0.2)[0]:\n",
    "    ax.axvline(i, lw=0.7)\n",
    "    ax.text(i, ax.get_ylim()[-1], str(i), va='bottom', ha='center', rotation=90, color='tab:blue', fontsize='x-small')\n",
    "\n",
    "ax.set_title('aRF-1')\n",
    "# Completeness score is 1 when all members of a class are in the same cluster. \n",
    "\n",
    "# In both prokaryotic and eukaryotic release factors (RFs), the N-terminal domain contains the \n",
    "# specific amino acid motifs that recognize and bind to the stop codon in the ribosomal A-site\n"
   ]
  },
  {
   "cell_type": "code",
   "execution_count": 81,
   "id": "0f3fa340",
   "metadata": {},
   "outputs": [
    {
     "data": {
      "text/plain": [
       "'TDSDTD'"
      ]
     },
     "execution_count": 81,
     "metadata": {},
     "output_type": "execute_result"
    }
   ],
   "source": [
    "''.join((alignment[np.where(groups == False)[0]][:, 36]))\n",
    "\n",
    "# The N domain is responsible for stop codon recognition. Motifs include TASNIKS and YxCxxxF"
   ]
  },
  {
   "cell_type": "code",
   "execution_count": 82,
   "id": "36111a3a",
   "metadata": {},
   "outputs": [
    {
     "data": {
      "text/plain": [
       "'TTDTTTTTDTTTTTTTTTNTTT'"
      ]
     },
     "execution_count": 82,
     "metadata": {},
     "output_type": "execute_result"
    }
   ],
   "source": [
    "''.join((alignment[np.where(groups == True)[0]][:, 36]))"
   ]
  },
  {
   "cell_type": "code",
   "execution_count": 9,
   "id": "d3a39f29",
   "metadata": {},
   "outputs": [
    {
     "data": {
      "text/html": [
       "<div>\n",
       "<style scoped>\n",
       "    .dataframe tbody tr th:only-of-type {\n",
       "        vertical-align: middle;\n",
       "    }\n",
       "\n",
       "    .dataframe tbody tr th {\n",
       "        vertical-align: top;\n",
       "    }\n",
       "\n",
       "    .dataframe thead th {\n",
       "        text-align: right;\n",
       "    }\n",
       "</style>\n",
       "<table border=\"1\" class=\"dataframe\">\n",
       "  <thead>\n",
       "    <tr style=\"text-align: right;\">\n",
       "      <th></th>\n",
       "      <th>description</th>\n",
       "      <th>seq</th>\n",
       "    </tr>\n",
       "    <tr>\n",
       "      <th>id</th>\n",
       "      <th></th>\n",
       "      <th></th>\n",
       "    </tr>\n",
       "  </thead>\n",
       "  <tbody>\n",
       "    <tr>\n",
       "      <th>DAUV01000075.1</th>\n",
       "      <td>MAG TPA_asm: Euryarchaeota archaeon UBA623 UBA...</td>\n",
       "      <td>GATCAACGTGTTTACGTCGAGGGTCAAGAGGCTCTGGCAGTTTCTG...</td>\n",
       "    </tr>\n",
       "    <tr>\n",
       "      <th>DAUV01000089.1</th>\n",
       "      <td>MAG TPA_asm: Euryarchaeota archaeon UBA623 UBA...</td>\n",
       "      <td>GGAACGGAGGCTCTCAGCGTGGCGGATCGGCAGGATATAGTGAGCT...</td>\n",
       "    </tr>\n",
       "    <tr>\n",
       "      <th>DAUV01000031.1</th>\n",
       "      <td>MAG TPA_asm: Euryarchaeota archaeon UBA623 UBA...</td>\n",
       "      <td>CGAGCTCTCCAAGGCGGTCGCAGATATCATCGCCAGTGAGGTCAAC...</td>\n",
       "    </tr>\n",
       "    <tr>\n",
       "      <th>DAUV01000057.1</th>\n",
       "      <td>MAG TPA_asm: Euryarchaeota archaeon UBA623 UBA...</td>\n",
       "      <td>TCCGCGGCGTCCTCGGCCTCCTTACGGCGTCGCAGAATCTCAGGAC...</td>\n",
       "    </tr>\n",
       "    <tr>\n",
       "      <th>DAUV01000047.1</th>\n",
       "      <td>MAG TPA_asm: Euryarchaeota archaeon UBA623 UBA...</td>\n",
       "      <td>CCAAAAGAACAGCAGCGGGCGTGGCGCGTTGCGCGACCTCAGGGTG...</td>\n",
       "    </tr>\n",
       "    <tr>\n",
       "      <th>...</th>\n",
       "      <td>...</td>\n",
       "      <td>...</td>\n",
       "    </tr>\n",
       "    <tr>\n",
       "      <th>DAUV01000014.1</th>\n",
       "      <td>MAG TPA_asm: Euryarchaeota archaeon UBA623 UBA...</td>\n",
       "      <td>ACTTCGCATATGCTCAAAATGCAAAGGAGAATCATACAGAAGCCGG...</td>\n",
       "    </tr>\n",
       "    <tr>\n",
       "      <th>DAUV01000039.1</th>\n",
       "      <td>MAG TPA_asm: Euryarchaeota archaeon UBA623 UBA...</td>\n",
       "      <td>GAACCTGTCATCGGCCTGTGGTCCCGGGTCGACGGACATTCTCTTG...</td>\n",
       "    </tr>\n",
       "    <tr>\n",
       "      <th>DAUV01000081.1</th>\n",
       "      <td>MAG TPA_asm: Euryarchaeota archaeon UBA623 UBA...</td>\n",
       "      <td>GCTGTGAAATACGCAGACCTTTCTACAGAGAGGACGAAGGACTACG...</td>\n",
       "    </tr>\n",
       "    <tr>\n",
       "      <th>DAUV01000084.1</th>\n",
       "      <td>MAG TPA_asm: Euryarchaeota archaeon UBA623 UBA...</td>\n",
       "      <td>GGGTAGTCGGGGAGCAGGACCATGTCCACTCACCCTAAGTTGGGGG...</td>\n",
       "    </tr>\n",
       "    <tr>\n",
       "      <th>DAUV01000046.1</th>\n",
       "      <td>MAG TPA_asm: Euryarchaeota archaeon UBA623 UBA...</td>\n",
       "      <td>ATATCACATCTGGACAGGGGCAGACGAAGGCGTCTACATGTCGAGA...</td>\n",
       "    </tr>\n",
       "  </tbody>\n",
       "</table>\n",
       "<p>128 rows × 2 columns</p>\n",
       "</div>"
      ],
      "text/plain": [
       "                                                      description  \\\n",
       "id                                                                  \n",
       "DAUV01000075.1  MAG TPA_asm: Euryarchaeota archaeon UBA623 UBA...   \n",
       "DAUV01000089.1  MAG TPA_asm: Euryarchaeota archaeon UBA623 UBA...   \n",
       "DAUV01000031.1  MAG TPA_asm: Euryarchaeota archaeon UBA623 UBA...   \n",
       "DAUV01000057.1  MAG TPA_asm: Euryarchaeota archaeon UBA623 UBA...   \n",
       "DAUV01000047.1  MAG TPA_asm: Euryarchaeota archaeon UBA623 UBA...   \n",
       "...                                                           ...   \n",
       "DAUV01000014.1  MAG TPA_asm: Euryarchaeota archaeon UBA623 UBA...   \n",
       "DAUV01000039.1  MAG TPA_asm: Euryarchaeota archaeon UBA623 UBA...   \n",
       "DAUV01000081.1  MAG TPA_asm: Euryarchaeota archaeon UBA623 UBA...   \n",
       "DAUV01000084.1  MAG TPA_asm: Euryarchaeota archaeon UBA623 UBA...   \n",
       "DAUV01000046.1  MAG TPA_asm: Euryarchaeota archaeon UBA623 UBA...   \n",
       "\n",
       "                                                              seq  \n",
       "id                                                                 \n",
       "DAUV01000075.1  GATCAACGTGTTTACGTCGAGGGTCAAGAGGCTCTGGCAGTTTCTG...  \n",
       "DAUV01000089.1  GGAACGGAGGCTCTCAGCGTGGCGGATCGGCAGGATATAGTGAGCT...  \n",
       "DAUV01000031.1  CGAGCTCTCCAAGGCGGTCGCAGATATCATCGCCAGTGAGGTCAAC...  \n",
       "DAUV01000057.1  TCCGCGGCGTCCTCGGCCTCCTTACGGCGTCGCAGAATCTCAGGAC...  \n",
       "DAUV01000047.1  CCAAAAGAACAGCAGCGGGCGTGGCGCGTTGCGCGACCTCAGGGTG...  \n",
       "...                                                           ...  \n",
       "DAUV01000014.1  ACTTCGCATATGCTCAAAATGCAAAGGAGAATCATACAGAAGCCGG...  \n",
       "DAUV01000039.1  GAACCTGTCATCGGCCTGTGGTCCCGGGTCGACGGACATTCTCTTG...  \n",
       "DAUV01000081.1  GCTGTGAAATACGCAGACCTTTCTACAGAGAGGACGAAGGACTACG...  \n",
       "DAUV01000084.1  GGGTAGTCGGGGAGCAGGACCATGTCCACTCACCCTAAGTTGGGGG...  \n",
       "DAUV01000046.1  ATATCACATCTGGACAGGGGCAGACGAAGGCGTCTACATGTCGAGA...  \n",
       "\n",
       "[128 rows x 2 columns]"
      ]
     },
     "execution_count": 9,
     "metadata": {},
     "output_type": "execute_result"
    }
   ],
   "source": [
    "FASTAFile('../data/ncbi/genomes/GCA_002505325.1.fn').to_df()\n",
    "# ~/muscle5.1.linux_intel64 -align arf1.fa -output arf1.afa ous "
   ]
  },
  {
   "cell_type": "code",
   "execution_count": null,
   "id": "c1864dba",
   "metadata": {},
   "outputs": [],
   "source": []
  }
 ],
 "metadata": {
  "kernelspec": {
   "display_name": "pyrrolysine",
   "language": "python",
   "name": "python3"
  },
  "language_info": {
   "codemirror_mode": {
    "name": "ipython",
    "version": 3
   },
   "file_extension": ".py",
   "mimetype": "text/x-python",
   "name": "python",
   "nbconvert_exporter": "python",
   "pygments_lexer": "ipython3",
   "version": "3.13.7"
  }
 },
 "nbformat": 4,
 "nbformat_minor": 5
}
