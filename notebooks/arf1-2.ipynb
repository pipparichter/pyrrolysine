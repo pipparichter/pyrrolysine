{
 "cells": [
  {
   "cell_type": "code",
   "execution_count": 1,
   "id": "38314896",
   "metadata": {},
   "outputs": [],
   "source": [
    "import pandas as pd \n",
    "import numpy as np\n",
    "from src.download import *\n",
    "import zipfile \n",
    "import glob\n",
    "from tqdm import tqdm  \n",
    "import os\n",
    "from src.files.fasta import FASTAFile\n",
    "from sklearn.metrics import normalized_mutual_info_score, mutual_info_score, adjusted_mutual_info_score, completeness_score\n",
    "import seaborn as sns \n",
    "import matplotlib.pyplot as plt\n",
    "from scipy.stats import entropy \n",
    "import re\n",
    "import subprocess\n",
    "import math \n",
    "from utils import * \n",
    "from src.data import * \n",
    "\n",
    "%load_ext autoreload\n",
    "%autoreload 2\n",
    "\n",
    "niks_domain = '[XNGDRYS]IK[SDLT]'\n",
    "# ycf_domain = 'Y.C...F'"
   ]
  },
  {
   "cell_type": "code",
   "execution_count": 6,
   "id": "aa21d9d2",
   "metadata": {},
   "outputs": [
    {
     "name": "stdout",
     "output_type": "stream",
     "text": [
      "load_msa: Num. conserved positions: 413\n"
     ]
    }
   ],
   "source": [
    "arf1_df = pd.read_csv('../data/arf1_duplicates.csv', index_col=0)\n",
    "\n",
    "def load_msa(path:str='../data/arf1_cleaned.afa', ids:list=None, conservation_threshold=0.8):\n",
    "    df = FASTAFile().from_fasta(path).to_df()\n",
    "    df = df.loc[ids].copy()\n",
    "    alignment = np.array([list(seq) for seq in df.seq])\n",
    "\n",
    "    # Flag conserved positions as those where at least 80 percent of the sequences do not have a gap. \n",
    "    is_conserved = lambda col : (col != '-').astype(int).mean() > conservation_threshold\n",
    "\n",
    "    conserved_positions = np.where([is_conserved(col) for col in alignment.T])[0]\n",
    "    print('load_msa: Num. conserved positions:', len(conserved_positions))\n",
    "    alignment = alignment[:, conserved_positions].copy() # Ignore the extra junk in the alignment. \n",
    "    return df.index.values, alignment\n",
    "\n",
    "index, alignment = load_msa(ids=arf1_df.index)"
   ]
  },
  {
   "cell_type": "code",
   "execution_count": 7,
   "id": "cb4ece9d",
   "metadata": {},
   "outputs": [],
   "source": [
    "seq = ''.join(alignment[0]) # The first entry in the alignment has the canonical NIKS domain and YXCXXXF.\n",
    "\n",
    "niks_match = re.search('NIKS', seq)\n",
    "# ycf_match = re.search(ycf_domain, seq, flags=re.DOTALL)\n",
    "\n",
    "start, stop = niks_match.start(), niks_match.end()"
   ]
  },
  {
   "cell_type": "code",
   "execution_count": 8,
   "id": "b8993ba3",
   "metadata": {},
   "outputs": [
    {
     "data": {
      "text/plain": [
       "'MTEAHEKYEFKKKLESLRDKKGRSTELISLYIPADKQIFDVTNQLKDEHGQAANIKSKLTRTNVQGAIESLLSRLRYLDKVPENGIVYFTGAVDIGANKTSMESEVIIPPEPITVYKYHCDSSFYLEPLEDMLKDKSTFGLLVLDRREATIGLLVGKRIQAFRNLTSTVPGKQRKGGQSAHRFQQLRLIAIHDFYKRIGDAASEIFMAVHKDLKGVLIGGPSPTKEEFYGGEFLHHELQKKILGLFDTAYTDESGLSELVNAAGEKLQDLELMGQKNAVRDFFKELIADSGKVAYGETQVRANLEINAVDVLLLSEDLRAERVTTKCSVCGYENKWTRRWKPGEPAPTAGNCPKCGSSLEVTDVIDVVDEFSELADKSNAKVVFVSTDFDEGSQLMNAFGGIAAILRYSTGV*'"
      ]
     },
     "execution_count": 8,
     "metadata": {},
     "output_type": "execute_result"
    }
   ],
   "source": [
    "seq"
   ]
  },
  {
   "cell_type": "code",
   "execution_count": null,
   "id": "c1864dba",
   "metadata": {},
   "outputs": [],
   "source": [
    "# domain = 'niks'\n",
    "\n",
    "# def figure(arf1_df:pd.DataFrame, domain:str='niks'):\n",
    "#     fig, (ax_top, ax_bottom) = get_split_figure((0, 500), (2200, 2400))\n",
    "\n",
    "#     # figure_df = pd.DataFrame(index=pd.Series(np.arange(1, 4), name='num_arf1'))\n",
    "#     figure_df = list()\n",
    "\n",
    "#     categories = ['pyl', f'pyl_{domain}', 'no_pyl', f'no_pyl_{domain}']\n",
    "#     masks = [(arf1_df.has_pyl), (arf1_df.has_pyl & arf1_df[f'has_{domain}_domain']), (~arf1_df.has_pyl), (~arf1_df.has_pyl & arf1_df[f'has_{domain}_domain'])]\n",
    "#     palette = {'pyl':'darkseagreen', f'pyl_{domain}':'seagreen', 'no_pyl':'indianred', f'no_pyl_{domain}':'firebrick'}\n",
    "\n",
    "#     for category, mask in zip(categories, masks):\n",
    "#         num_arf1_counts = arf1_df[mask].groupby('genome_id').size().value_counts()\n",
    "#         figure_df += [{'num_arf1':n, 'count':num_arf1_counts.loc[n], 'category':category} for n in num_arf1_counts.index]\n",
    "#     figure_df = pd.DataFrame(figure_df)\n",
    "#     figure_df = figure_df[figure_df.num_arf1 < 4].copy()\n",
    "\n",
    "#     # How many cases of Pyl-containing organisms with two ARF-1s and only one with a NIKS domain?\n",
    "#     arf1_counts = arf1_df.groupby('genome_id').size()\n",
    "#     genome_ids_multiple_arf1s = arf1_counts[arf1_counts > 1].index.values.tolist()\n",
    "#     # no_pyl_genome_ids_multiple_arf1s = arf1_counts[(arf1_counts > 1) & (arf1_counts.index.isin(no_pyl_genome_ids))].index.values.tolist()\n",
    "\n",
    "#     sns.barplot(figure_df, x='num_arf1', y='count', hue='category', edgecolor='black', ax=ax_top, palette=palette) #, binsize=0.2)\n",
    "#     sns.barplot(figure_df, x='num_arf1', y='count', hue='category', edgecolor='black', ax=ax_bottom, legend=False, palette=palette) #, binsize=0.2)\n",
    "#     ax_top.set_ylabel('')\n",
    "#     ax_top.get_legend().set_title('')\n",
    "#     ax_bottom.set_xlabel('num. aRF-1')\n",
    "\n",
    "#     plt.show()\n",
    "#     return genome_ids_multiple_arf1s\n",
    "\n",
    "# genome_ids_multiple_arf1s = figure(arf1_df)\n",
    "# arf1_df['has_multiple_arf1'] = arf1_df.genome_id.isin(genome_ids_multiple_arf1s)\n",
    "\n",
    "\n",
    "# # It's concerning that some of the non-Pyl organisms have multiple aRF-1 genes. None of the non-Pyl genomes with multiple\n",
    "# # aRF-1s have a lot of contamination, so it's possible that they have Pyl machinery that were missed by the HMMs."
   ]
  },
  {
   "cell_type": "code",
   "execution_count": null,
   "id": "a3706f04",
   "metadata": {},
   "outputs": [],
   "source": []
  }
 ],
 "metadata": {
  "kernelspec": {
   "display_name": "pyrrolysine",
   "language": "python",
   "name": "python3"
  },
  "language_info": {
   "codemirror_mode": {
    "name": "ipython",
    "version": 3
   },
   "file_extension": ".py",
   "mimetype": "text/x-python",
   "name": "python",
   "nbconvert_exporter": "python",
   "pygments_lexer": "ipython3",
   "version": "3.13.7"
  }
 },
 "nbformat": 4,
 "nbformat_minor": 5
}
